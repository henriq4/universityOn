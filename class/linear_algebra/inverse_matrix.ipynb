{
 "cells": [
  {
   "cell_type": "code",
   "execution_count": null,
   "metadata": {
    "id": "mgGiu25POB9m"
   },
   "outputs": [],
   "source": [
    "import numpy as np"
   ]
  },
  {
   "cell_type": "code",
   "execution_count": null,
   "metadata": {
    "colab": {
     "base_uri": "https://localhost:8080/"
    },
    "id": "Zd1BGvv8OFL7",
    "outputId": "d5bf500f-2d00-46c1-f29c-0969c55c6740"
   },
   "outputs": [
    {
     "data": {
      "text/plain": [
       "matrix([[1., 2., 3.],\n",
       "        [4., 5., 6.],\n",
       "        [7., 8., 9.]])"
      ]
     },
     "execution_count": 54,
     "metadata": {},
     "output_type": "execute_result"
    }
   ],
   "source": [
    "A = np.matrix('1.0,2.0,3.0;4.0,5.0,6.0;7.0,8.0,9.0')\n",
    "\n",
    "A"
   ]
  },
  {
   "cell_type": "code",
   "execution_count": null,
   "metadata": {
    "colab": {
     "base_uri": "https://localhost:8080/"
    },
    "id": "_eq3n_lQOe2i",
    "outputId": "18f0a788-99da-4a6f-ea6b-67737f7cc042"
   },
   "outputs": [
    {
     "data": {
      "text/plain": [
       "array([[1., 0., 0.],\n",
       "       [0., 1., 0.],\n",
       "       [0., 0., 1.]])"
      ]
     },
     "execution_count": 55,
     "metadata": {},
     "output_type": "execute_result"
    }
   ],
   "source": [
    "B = np.identity(3)\n",
    "\n",
    "B"
   ]
  },
  {
   "cell_type": "code",
   "execution_count": null,
   "metadata": {
    "colab": {
     "base_uri": "https://localhost:8080/"
    },
    "id": "uepTrf4XOjFu",
    "outputId": "7d7b842a-b18b-4c88-db80-80f484061a11"
   },
   "outputs": [
    {
     "data": {
      "text/plain": [
       "matrix([[1., 2., 3.],\n",
       "        [4., 5., 6.],\n",
       "        [7., 8., 9.]])"
      ]
     },
     "execution_count": 56,
     "metadata": {},
     "output_type": "execute_result"
    }
   ],
   "source": [
    "# Atribuindo o valor um para a matriz A[0][0]\n",
    "A[0,:] = 1/1 * A[0,:]\n",
    "\n",
    "# Fazendo a operação inversa na matriz identidade\n",
    "B[0,:] = 1/1 * B[0,:]\n",
    "\n",
    "A"
   ]
  },
  {
   "cell_type": "code",
   "execution_count": null,
   "metadata": {
    "colab": {
     "base_uri": "https://localhost:8080/"
    },
    "id": "4BwvuILkPBaP",
    "outputId": "25a29b71-1d73-4e68-ce59-158b82e7a385"
   },
   "outputs": [
    {
     "data": {
      "text/plain": [
       "array([[1., 0., 0.],\n",
       "       [0., 1., 0.],\n",
       "       [0., 0., 1.]])"
      ]
     },
     "execution_count": 57,
     "metadata": {},
     "output_type": "execute_result"
    }
   ],
   "source": [
    "\n",
    "\n",
    "B"
   ]
  },
  {
   "cell_type": "code",
   "execution_count": null,
   "metadata": {
    "colab": {
     "base_uri": "https://localhost:8080/"
    },
    "id": "l_3CIYZKPN2W",
    "outputId": "32bc7af6-1932-406d-887b-ee4c3b1694bc"
   },
   "outputs": [
    {
     "data": {
      "text/plain": [
       "matrix([[ 1.,  2.,  3.],\n",
       "        [ 0., -3., -6.],\n",
       "        [ 7.,  8.,  9.]])"
      ]
     },
     "execution_count": 58,
     "metadata": {},
     "output_type": "execute_result"
    }
   ],
   "source": [
    "# Zerando os elementos abaixo de A[1][0]\n",
    "A[1, :] = (-4 * A[0, :]) + A[1, :]\n",
    "\n",
    "# Fazendo a operação inversa na matriz identidade\n",
    "B[1, :] = (-4 * B[0, :]) + B[1, :]\n",
    "\n",
    "A"
   ]
  },
  {
   "cell_type": "code",
   "execution_count": null,
   "metadata": {
    "colab": {
     "base_uri": "https://localhost:8080/"
    },
    "id": "50MfEh39QfXo",
    "outputId": "b7715d11-b581-405a-d095-76805e297f73"
   },
   "outputs": [
    {
     "data": {
      "text/plain": [
       "matrix([[  1.,   2.,   3.],\n",
       "        [  0.,  -3.,  -6.],\n",
       "        [  0.,  -6., -12.]])"
      ]
     },
     "execution_count": 59,
     "metadata": {},
     "output_type": "execute_result"
    }
   ],
   "source": [
    "# Zerando o elemento A[2][0]\n",
    "A[2, :] = (-7 * A[0, :]) + A[2, :]\n",
    "\n",
    "# Fazendo a operação inversa na matriz identidade\n",
    "B[2, :] = (-7 * B[0, :]) + B[2, :]\n",
    "\n",
    "A"
   ]
  },
  {
   "cell_type": "code",
   "execution_count": null,
   "metadata": {
    "colab": {
     "base_uri": "https://localhost:8080/"
    },
    "id": "OILVjZiiQ90S",
    "outputId": "bd699612-4aac-4a4e-e7d8-090d3eddf7e6"
   },
   "outputs": [
    {
     "data": {
      "text/plain": [
       "array([[ 1.,  0.,  0.],\n",
       "       [-4.,  1.,  0.],\n",
       "       [-7.,  0.,  1.]])"
      ]
     },
     "execution_count": 60,
     "metadata": {},
     "output_type": "execute_result"
    }
   ],
   "source": [
    "B"
   ]
  },
  {
   "cell_type": "code",
   "execution_count": null,
   "metadata": {
    "colab": {
     "base_uri": "https://localhost:8080/"
    },
    "id": "k2gIGsUvSYYI",
    "outputId": "9dbb262f-213d-4d62-e69d-5ade9c8664cf"
   },
   "outputs": [
    {
     "data": {
      "text/plain": [
       "matrix([[  1.,   2.,   3.],\n",
       "        [  0.,   1.,   2.],\n",
       "        [  0.,  -6., -12.]])"
      ]
     },
     "execution_count": 61,
     "metadata": {},
     "output_type": "execute_result"
    }
   ],
   "source": [
    "# Atribuindo o valor um para a matriz A[1][1]\n",
    "A[1, :] = 1/-3 * A[1, :]\n",
    "\n",
    "# Fazendo a operação inversa na matriz identidade\n",
    "B[1, :] = 1/-3 * B[1, :]\n",
    "\n",
    "A"
   ]
  },
  {
   "cell_type": "code",
   "execution_count": null,
   "metadata": {
    "colab": {
     "base_uri": "https://localhost:8080/"
    },
    "id": "vXFRzp3YSrmx",
    "outputId": "b28592c1-2f54-4a40-a4ff-bef7a7f52ca3"
   },
   "outputs": [
    {
     "data": {
      "text/plain": [
       "matrix([[  1.,   0.,  -1.],\n",
       "        [  0.,   1.,   2.],\n",
       "        [  0.,  -6., -12.]])"
      ]
     },
     "execution_count": 62,
     "metadata": {},
     "output_type": "execute_result"
    }
   ],
   "source": [
    "# Zerando o elemento A[0, 1]\n",
    "A[0, :] = (-2 * A[1, :]) + A[0, :]\n",
    "\n",
    "# Fazendo a operação inversa na matriz identidade\n",
    "B[0, :] = (-2 * B[1, :]) + B[0, :]\n",
    "\n",
    "A"
   ]
  },
  {
   "cell_type": "code",
   "execution_count": null,
   "metadata": {
    "colab": {
     "base_uri": "https://localhost:8080/"
    },
    "id": "47YlgRxfS2Cp",
    "outputId": "9eea182d-3c4f-4c27-ee1a-3ab959ca9af7"
   },
   "outputs": [
    {
     "data": {
      "text/plain": [
       "matrix([[ 1.,  0., -1.],\n",
       "        [ 0.,  1.,  2.],\n",
       "        [ 0.,  0.,  0.]])"
      ]
     },
     "execution_count": 63,
     "metadata": {},
     "output_type": "execute_result"
    }
   ],
   "source": [
    "# Zerando o elemento A[2, 1]\n",
    "A[2, :] = (6 * A[1, :]) + A[2, :]\n",
    "\n",
    "# Fazendo a operação inversa na matriz identidade\n",
    "B[2, :] = (6 * B[1, :]) + B[2, :]\n",
    "\n",
    "A"
   ]
  },
  {
   "cell_type": "markdown",
   "metadata": {
    "id": "gQklx9shU1QN"
   },
   "source": [
    "## Existe matrizes que não possuem inversas\n",
    "\n",
    "Como podemos ver acima, a terceira linha inteira ficou zerada, isso porque a equação da segunda e da terceira linha são múltiplas"
   ]
  },
  {
   "cell_type": "markdown",
   "metadata": {
    "id": "hRm23iALVWTY"
   },
   "source": [
    "## Inverter matrizes com python\n"
   ]
  },
  {
   "cell_type": "code",
   "execution_count": null,
   "metadata": {
    "id": "676Q1FZSTj4T"
   },
   "outputs": [],
   "source": [
    "inv(A)"
   ]
  }
 ],
 "metadata": {
  "colab": {
   "provenance": []
  },
  "kernelspec": {
   "display_name": "Python 3 (ipykernel)",
   "language": "python",
   "name": "python3"
  },
  "language_info": {
   "codemirror_mode": {
    "name": "ipython",
    "version": 3
   },
   "file_extension": ".py",
   "mimetype": "text/x-python",
   "name": "python",
   "nbconvert_exporter": "python",
   "pygments_lexer": "ipython3",
   "version": "3.10.9"
  }
 },
 "nbformat": 4,
 "nbformat_minor": 1
}
