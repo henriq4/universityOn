{
  "nbformat": 4,
  "nbformat_minor": 0,
  "metadata": {
    "colab": {
      "provenance": []
    },
    "kernelspec": {
      "name": "python3",
      "display_name": "Python 3"
    },
    "language_info": {
      "name": "python"
    }
  },
  "cells": [
    {
      "cell_type": "code",
      "execution_count": null,
      "metadata": {
        "id": "mgGiu25POB9m"
      },
      "outputs": [],
      "source": [
        "import numpy as np"
      ]
    },
    {
      "cell_type": "code",
      "source": [
        "A = np.matrix('1.0,2.0,3.0;4.0,5.0,6.0;7.0,8.0,9.0')\n",
        "\n",
        "A"
      ],
      "metadata": {
        "colab": {
          "base_uri": "https://localhost:8080/"
        },
        "id": "Zd1BGvv8OFL7",
        "outputId": "d5bf500f-2d00-46c1-f29c-0969c55c6740"
      },
      "execution_count": null,
      "outputs": [
        {
          "output_type": "execute_result",
          "data": {
            "text/plain": [
              "matrix([[1., 2., 3.],\n",
              "        [4., 5., 6.],\n",
              "        [7., 8., 9.]])"
            ]
          },
          "metadata": {},
          "execution_count": 54
        }
      ]
    },
    {
      "cell_type": "code",
      "source": [
        "B = np.identity(3)\n",
        "\n",
        "B"
      ],
      "metadata": {
        "colab": {
          "base_uri": "https://localhost:8080/"
        },
        "id": "_eq3n_lQOe2i",
        "outputId": "18f0a788-99da-4a6f-ea6b-67737f7cc042"
      },
      "execution_count": null,
      "outputs": [
        {
          "output_type": "execute_result",
          "data": {
            "text/plain": [
              "array([[1., 0., 0.],\n",
              "       [0., 1., 0.],\n",
              "       [0., 0., 1.]])"
            ]
          },
          "metadata": {},
          "execution_count": 55
        }
      ]
    },
    {
      "cell_type": "code",
      "source": [
        "# Atribuindo o valor um para a matriz A[0][0]\n",
        "A[0,:] = 1/1 * A[0,:]\n",
        "\n",
        "# Fazendo a operação inversa na matriz identidade\n",
        "B[0,:] = 1/1 * B[0,:]\n",
        "\n",
        "A"
      ],
      "metadata": {
        "colab": {
          "base_uri": "https://localhost:8080/"
        },
        "id": "uepTrf4XOjFu",
        "outputId": "7d7b842a-b18b-4c88-db80-80f484061a11"
      },
      "execution_count": null,
      "outputs": [
        {
          "output_type": "execute_result",
          "data": {
            "text/plain": [
              "matrix([[1., 2., 3.],\n",
              "        [4., 5., 6.],\n",
              "        [7., 8., 9.]])"
            ]
          },
          "metadata": {},
          "execution_count": 56
        }
      ]
    },
    {
      "cell_type": "code",
      "source": [
        "\n",
        "\n",
        "B"
      ],
      "metadata": {
        "colab": {
          "base_uri": "https://localhost:8080/"
        },
        "id": "4BwvuILkPBaP",
        "outputId": "25a29b71-1d73-4e68-ce59-158b82e7a385"
      },
      "execution_count": null,
      "outputs": [
        {
          "output_type": "execute_result",
          "data": {
            "text/plain": [
              "array([[1., 0., 0.],\n",
              "       [0., 1., 0.],\n",
              "       [0., 0., 1.]])"
            ]
          },
          "metadata": {},
          "execution_count": 57
        }
      ]
    },
    {
      "cell_type": "code",
      "source": [
        "# Zerando os elementos abaixo de A[1][0]\n",
        "A[1, :] = (-4 * A[0, :]) + A[1, :]\n",
        "\n",
        "# Fazendo a operação inversa na matriz identidade\n",
        "B[1, :] = (-4 * B[0, :]) + B[1, :]\n",
        "\n",
        "A"
      ],
      "metadata": {
        "colab": {
          "base_uri": "https://localhost:8080/"
        },
        "id": "l_3CIYZKPN2W",
        "outputId": "32bc7af6-1932-406d-887b-ee4c3b1694bc"
      },
      "execution_count": null,
      "outputs": [
        {
          "output_type": "execute_result",
          "data": {
            "text/plain": [
              "matrix([[ 1.,  2.,  3.],\n",
              "        [ 0., -3., -6.],\n",
              "        [ 7.,  8.,  9.]])"
            ]
          },
          "metadata": {},
          "execution_count": 58
        }
      ]
    },
    {
      "cell_type": "code",
      "source": [
        "# Zerando o elemento A[2][0]\n",
        "A[2, :] = (-7 * A[0, :]) + A[2, :]\n",
        "\n",
        "# Fazendo a operação inversa na matriz identidade\n",
        "B[2, :] = (-7 * B[0, :]) + B[2, :]\n",
        "\n",
        "A"
      ],
      "metadata": {
        "colab": {
          "base_uri": "https://localhost:8080/"
        },
        "id": "50MfEh39QfXo",
        "outputId": "b7715d11-b581-405a-d095-76805e297f73"
      },
      "execution_count": null,
      "outputs": [
        {
          "output_type": "execute_result",
          "data": {
            "text/plain": [
              "matrix([[  1.,   2.,   3.],\n",
              "        [  0.,  -3.,  -6.],\n",
              "        [  0.,  -6., -12.]])"
            ]
          },
          "metadata": {},
          "execution_count": 59
        }
      ]
    },
    {
      "cell_type": "code",
      "source": [
        "B"
      ],
      "metadata": {
        "colab": {
          "base_uri": "https://localhost:8080/"
        },
        "id": "OILVjZiiQ90S",
        "outputId": "bd699612-4aac-4a4e-e7d8-090d3eddf7e6"
      },
      "execution_count": null,
      "outputs": [
        {
          "output_type": "execute_result",
          "data": {
            "text/plain": [
              "array([[ 1.,  0.,  0.],\n",
              "       [-4.,  1.,  0.],\n",
              "       [-7.,  0.,  1.]])"
            ]
          },
          "metadata": {},
          "execution_count": 60
        }
      ]
    },
    {
      "cell_type": "code",
      "source": [
        "# Atribuindo o valor um para a matriz A[1][1]\n",
        "A[1, :] = 1/-3 * A[1, :]\n",
        "\n",
        "# Fazendo a operação inversa na matriz identidade\n",
        "B[1, :] = 1/-3 * B[1, :]\n",
        "\n",
        "A"
      ],
      "metadata": {
        "colab": {
          "base_uri": "https://localhost:8080/"
        },
        "id": "k2gIGsUvSYYI",
        "outputId": "9dbb262f-213d-4d62-e69d-5ade9c8664cf"
      },
      "execution_count": null,
      "outputs": [
        {
          "output_type": "execute_result",
          "data": {
            "text/plain": [
              "matrix([[  1.,   2.,   3.],\n",
              "        [  0.,   1.,   2.],\n",
              "        [  0.,  -6., -12.]])"
            ]
          },
          "metadata": {},
          "execution_count": 61
        }
      ]
    },
    {
      "cell_type": "code",
      "source": [
        "# Zerando o elemento A[0, 1]\n",
        "A[0, :] = (-2 * A[1, :]) + A[0, :]\n",
        "\n",
        "# Fazendo a operação inversa na matriz identidade\n",
        "B[0, :] = (-2 * B[1, :]) + B[0, :]\n",
        "\n",
        "A"
      ],
      "metadata": {
        "colab": {
          "base_uri": "https://localhost:8080/"
        },
        "id": "vXFRzp3YSrmx",
        "outputId": "b28592c1-2f54-4a40-a4ff-bef7a7f52ca3"
      },
      "execution_count": null,
      "outputs": [
        {
          "output_type": "execute_result",
          "data": {
            "text/plain": [
              "matrix([[  1.,   0.,  -1.],\n",
              "        [  0.,   1.,   2.],\n",
              "        [  0.,  -6., -12.]])"
            ]
          },
          "metadata": {},
          "execution_count": 62
        }
      ]
    },
    {
      "cell_type": "code",
      "source": [
        "# Zerando o elemento A[2, 1]\n",
        "A[2, :] = (6 * A[1, :]) + A[2, :]\n",
        "\n",
        "# Fazendo a operação inversa na matriz identidade\n",
        "B[2, :] = (6 * B[1, :]) + B[2, :]\n",
        "\n",
        "A"
      ],
      "metadata": {
        "colab": {
          "base_uri": "https://localhost:8080/"
        },
        "id": "47YlgRxfS2Cp",
        "outputId": "9eea182d-3c4f-4c27-ee1a-3ab959ca9af7"
      },
      "execution_count": null,
      "outputs": [
        {
          "output_type": "execute_result",
          "data": {
            "text/plain": [
              "matrix([[ 1.,  0., -1.],\n",
              "        [ 0.,  1.,  2.],\n",
              "        [ 0.,  0.,  0.]])"
            ]
          },
          "metadata": {},
          "execution_count": 63
        }
      ]
    },
    {
      "cell_type": "markdown",
      "source": [
        "## Existe matrizes que não possuem inversas\n",
        "\n",
        "Como podemos ver acima, a terceira linha inteira ficou zerada, isso porque a equação da segunda e da terceira linha são múltiplas"
      ],
      "metadata": {
        "id": "gQklx9shU1QN"
      }
    },
    {
      "cell_type": "markdown",
      "source": [
        "## Inverter matrizes com python\n"
      ],
      "metadata": {
        "id": "hRm23iALVWTY"
      }
    },
    {
      "cell_type": "code",
      "source": [
        "inv(A)"
      ],
      "metadata": {
        "id": "676Q1FZSTj4T"
      },
      "execution_count": null,
      "outputs": []
    }
  ]
}