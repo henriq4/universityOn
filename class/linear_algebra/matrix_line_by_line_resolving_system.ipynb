{
 "cells": [
  {
   "cell_type": "markdown",
   "metadata": {
    "id": "9jDtXNYJ1rH6"
   },
   "source": [
    "# Sistemas de Equações Lineares\n",
    "## Multiplicação de matrizes de ordem xn por outra matriz de ordem 1n\n",
    "\n",
    "A x->\n",
    "[a11 a12 a13]\n",
    "[a21 a22 a23]\n",
    "[a31 a32 a33]"
   ]
  },
  {
   "cell_type": "code",
   "execution_count": null,
   "metadata": {
    "id": "TNtuh7eM1mhB"
   },
   "outputs": [],
   "source": [
    "import numpy as np"
   ]
  },
  {
   "cell_type": "code",
   "execution_count": null,
   "metadata": {
    "colab": {
     "base_uri": "https://localhost:8080/"
    },
    "id": "9CbPHZnf6Cy6",
    "outputId": "e75d75f8-76cd-4f52-c4a1-3049bc9f4eab"
   },
   "outputs": [
    {
     "name": "stdout",
     "output_type": "stream",
     "text": [
      "[[ 1.  1.  2.  9.]\n",
      " [ 2.  4. -3.  1.]\n",
      " [ 3.  6. -5.  0.]]\n"
     ]
    }
   ],
   "source": [
    "A = np.matrix(\"1.0, 1.0, 2.0, 9.0; 2.0, 4.0, -3.0, 1.0; 3.0, 6.0, -5.0, 0.0\")\n",
    "print(A)"
   ]
  },
  {
   "cell_type": "markdown",
   "metadata": {
    "id": "lKGtP06V7WEh"
   },
   "source": [
    "### Objetivo\n",
    "Nosso objetivo é transformar a matriz dada em uma matriz identidade com a diagonal principal igual a 1 e os demais elementos igual a zero.\n",
    "\n",
    "Com isso, temos que a última coluna da matriz será igual a resolução do sistema linaer com dadas equações.\n",
    "\n",
    "Nosso sistema é:\n",
    "\n",
    "x + y + 2z = 9\n",
    "2x + 4y - 3z = 1\n",
    "3x + 6y - 5z = 0"
   ]
  },
  {
   "cell_type": "code",
   "execution_count": null,
   "metadata": {
    "colab": {
     "base_uri": "https://localhost:8080/"
    },
    "id": "sqtv1m8E6Krx",
    "outputId": "09c62c77-08a9-4807-e81c-6b800e96068a"
   },
   "outputs": [
    {
     "name": "stdout",
     "output_type": "stream",
     "text": [
      "[[  1.   1.   2.   9.]\n",
      " [  0.   2.  -7. -17.]\n",
      " [  3.   6.  -5.   0.]]\n"
     ]
    }
   ],
   "source": [
    "A[1,:] = -2 * A[0,:] + A[1, :]\n",
    "print(A)"
   ]
  },
  {
   "cell_type": "code",
   "execution_count": null,
   "metadata": {
    "colab": {
     "base_uri": "https://localhost:8080/"
    },
    "id": "t5vcKAlC6LYB",
    "outputId": "5b4da054-68f1-4623-ef13-95cd61faa08b"
   },
   "outputs": [
    {
     "name": "stdout",
     "output_type": "stream",
     "text": [
      "[[  1.   1.   2.   9.]\n",
      " [  0.   2.  -7. -17.]\n",
      " [  0.   3. -11. -27.]]\n"
     ]
    }
   ],
   "source": [
    "A[2,:] = -3 * A[0,:] + A[2,:]\n",
    "print(A)"
   ]
  },
  {
   "cell_type": "code",
   "execution_count": null,
   "metadata": {
    "colab": {
     "base_uri": "https://localhost:8080/"
    },
    "id": "hseRlGpw9bNG",
    "outputId": "974b6d53-3596-4200-a9b5-f97b9147fcaf"
   },
   "outputs": [
    {
     "name": "stdout",
     "output_type": "stream",
     "text": [
      "[[  1.    0.    5.5  17.5]\n",
      " [  0.    2.   -7.  -17. ]\n",
      " [  0.    3.  -11.  -27. ]]\n"
     ]
    }
   ],
   "source": [
    "A[0,:] = A[0,:] - (A[1, :] / 2)\n",
    "print(A)"
   ]
  },
  {
   "cell_type": "code",
   "execution_count": null,
   "metadata": {
    "colab": {
     "base_uri": "https://localhost:8080/"
    },
    "id": "SGvy1a4U9_uY",
    "outputId": "cfda918d-9c56-4380-d55f-9ecbe30a6219"
   },
   "outputs": [
    {
     "name": "stdout",
     "output_type": "stream",
     "text": [
      "[[  1.    0.    5.5  17.5]\n",
      " [  0.    1.   -3.5  -8.5]\n",
      " [  0.    3.  -11.  -27. ]]\n"
     ]
    }
   ],
   "source": [
    "A[1,:] = A[1,:] / 2\n",
    "print(A)"
   ]
  },
  {
   "cell_type": "code",
   "execution_count": null,
   "metadata": {
    "colab": {
     "base_uri": "https://localhost:8080/"
    },
    "id": "4oWoXWMK-G8G",
    "outputId": "03c1000c-557a-4c02-d8d5-083cb718008d"
   },
   "outputs": [
    {
     "name": "stdout",
     "output_type": "stream",
     "text": [
      "[[ 1.   0.   5.5 17.5]\n",
      " [ 0.   1.  -3.5 -8.5]\n",
      " [ 0.   0.  -0.5 -1.5]]\n"
     ]
    }
   ],
   "source": [
    "A[2,:] = -3 * A[1,:] + A[2,:]\n",
    "print(A)"
   ]
  },
  {
   "cell_type": "code",
   "execution_count": null,
   "metadata": {
    "colab": {
     "base_uri": "https://localhost:8080/"
    },
    "id": "HTj6lScg-WOu",
    "outputId": "6c75fa0c-024c-45af-8227-a7f9db660cf6"
   },
   "outputs": [
    {
     "name": "stdout",
     "output_type": "stream",
     "text": [
      "[[ 1.    0.    4.25 13.75]\n",
      " [ 0.    1.   -3.5  -8.5 ]\n",
      " [ 0.    0.   -0.5  -1.5 ]]\n"
     ]
    }
   ],
   "source": [
    "A[0,:] = 2.5 * A[2,:] + A[0,:]\n",
    "print(A)"
   ]
  },
  {
   "cell_type": "code",
   "execution_count": null,
   "metadata": {
    "colab": {
     "base_uri": "https://localhost:8080/"
    },
    "id": "XNi3XHXG-zWW",
    "outputId": "449b2fad-ab7b-4051-aa2d-461975e660a2"
   },
   "outputs": [
    {
     "name": "stdout",
     "output_type": "stream",
     "text": [
      "[[ 1.    0.    4.25 13.75]\n",
      " [ 0.    1.   -3.5  -8.5 ]\n",
      " [-0.   -0.    0.25  0.75]]\n"
     ]
    }
   ],
   "source": [
    "A[2,:] = -(A[2,:] / 2)\n",
    "print(A)"
   ]
  },
  {
   "cell_type": "code",
   "execution_count": null,
   "metadata": {
    "colab": {
     "base_uri": "https://localhost:8080/"
    },
    "id": "N6aXoMlV_Nm_",
    "outputId": "379591d4-f60b-49fc-e72d-f789e66d8582"
   },
   "outputs": [
    {
     "name": "stdout",
     "output_type": "stream",
     "text": [
      "[[ 1.    0.    4.25 13.75]\n",
      " [ 0.    1.   -2.75 -6.25]\n",
      " [-0.   -0.    0.25  0.75]]\n"
     ]
    }
   ],
   "source": [
    "A[1,:] = 3 * A[2,:] + A[1,:]\n",
    "print(A)"
   ]
  },
  {
   "cell_type": "markdown",
   "metadata": {
    "id": "SBp9kdZl_l7m"
   },
   "source": [
    "### Resultado\n",
    "\n",
    "O resultado do nosso sitema será 1, 2 e 3, respectivamente\n",
    "\n",
    "---\n",
    "\n",
    "### Conferindo\n",
    "\n",
    "Para conferir, iremos multiplicar a matriz inicial (sem a ultima coluna) com o resultado encontrado, o resultado será uma matriz com os valores acima"
   ]
  },
  {
   "cell_type": "code",
   "execution_count": null,
   "metadata": {
    "colab": {
     "base_uri": "https://localhost:8080/"
    },
    "id": "GLPtIZuV_4cY",
    "outputId": "627e2f6b-b9dc-4a52-f3fa-90aa2ae37a33"
   },
   "outputs": [
    {
     "name": "stdout",
     "output_type": "stream",
     "text": [
      "[[9]\n",
      " [1]\n",
      " [0]]\n"
     ]
    }
   ],
   "source": [
    "a_prova = np.matrix(\"1, 1, 2; 2, 4, -3; 3, 6, -5\")\n",
    "b_prova = np.matrix(\"1; 2; 3\")\n",
    "\n",
    "m_final = a_prova.dot(b_prova)\n",
    "print(m_final)"
   ]
  },
  {
   "cell_type": "code",
   "execution_count": null,
   "metadata": {
    "id": "H8n2Droh_Y7m"
   },
   "outputs": [],
   "source": []
  }
 ],
 "metadata": {
  "colab": {
   "provenance": []
  },
  "kernelspec": {
   "display_name": "Python 3 (ipykernel)",
   "language": "python",
   "name": "python3"
  },
  "language_info": {
   "codemirror_mode": {
    "name": "ipython",
    "version": 3
   },
   "file_extension": ".py",
   "mimetype": "text/x-python",
   "name": "python",
   "nbconvert_exporter": "python",
   "pygments_lexer": "ipython3",
   "version": "3.10.9"
  }
 },
 "nbformat": 4,
 "nbformat_minor": 1
}
