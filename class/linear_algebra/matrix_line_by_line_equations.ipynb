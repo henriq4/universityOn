{
  "nbformat": 4,
  "nbformat_minor": 0,
  "metadata": {
    "colab": {
      "provenance": []
    },
    "kernelspec": {
      "name": "python3",
      "display_name": "Python 3"
    },
    "language_info": {
      "name": "python"
    }
  },
  "cells": [
    {
      "cell_type": "code",
      "execution_count": null,
      "metadata": {
        "id": "cEjEf8N4nLy4"
      },
      "outputs": [],
      "source": [
        "import numpy as np\n",
        "from sympy import Symbol, solve"
      ]
    },
    {
      "cell_type": "code",
      "source": [
        "def c_f1(x, y, z):\n",
        "  return x + y + 2*z - 9\n",
        "\n",
        "def c_f2(x, y, z):\n",
        "  return 2*x + 4*y - 3*z - 1\n",
        "\n",
        "def c_f3(x, y, z):\n",
        "  return 3*x + 6*y - 5*z - 0"
      ],
      "metadata": {
        "id": "qfZySt2InUc9"
      },
      "execution_count": null,
      "outputs": []
    },
    {
      "cell_type": "code",
      "source": [
        "x = Symbol('x')\n",
        "y = Symbol('y')\n",
        "z = Symbol('z')"
      ],
      "metadata": {
        "id": "yzILO8WfnyWF"
      },
      "execution_count": null,
      "outputs": []
    },
    {
      "cell_type": "code",
      "source": [
        "result_class = solve((c_f1(x, y, z), c_f2(x, y, z), c_f3(x, y, z)))"
      ],
      "metadata": {
        "id": "3qu23rNtn0Qm"
      },
      "execution_count": null,
      "outputs": []
    },
    {
      "cell_type": "code",
      "source": [
        "print(result_class)"
      ],
      "metadata": {
        "colab": {
          "base_uri": "https://localhost:8080/"
        },
        "id": "KIvqVE46qli0",
        "outputId": "3f744e3b-6810-4811-8553-10df7d49f948"
      },
      "execution_count": null,
      "outputs": [
        {
          "output_type": "stream",
          "name": "stdout",
          "text": [
            "{x: 1, y: 2, z: 3}\n"
          ]
        }
      ]
    },
    {
      "cell_type": "markdown",
      "source": [
        "---"
      ],
      "metadata": {
        "id": "SuMy_qQluVU0"
      }
    },
    {
      "cell_type": "markdown",
      "source": [
        "## Trabalhando com matrizes linha por linha\n",
        "\n",
        "Aqui trabalharemos para encontrar os valores de *x, y, z* dentro de um sistema\n",
        "de equações.\n",
        "\n",
        "### Modo de fazer\n",
        "\n",
        "Iremos zerar as equações do sistema de forma que obtermos:\n",
        "```[\n",
        "  [x 0 0]\n",
        "  [0 y 0]\n",
        "  [0 0 z]\n",
        "]```\n",
        "\n",
        "Para isso, nós primeiros alteramos as equações para virar uma matriz, depois alteramos o valor da equação a multiplicando, de forma que o valor final seja zerado, resultando na matriz anterior."
      ],
      "metadata": {
        "id": "MgxAMQQQrysX"
      }
    },
    {
      "cell_type": "code",
      "source": [
        "from fractions import Fraction"
      ],
      "metadata": {
        "id": "PM-Z2h5irFH1"
      },
      "execution_count": null,
      "outputs": []
    },
    {
      "cell_type": "code",
      "source": [
        "A = np.matrix('1,1,2,9;2,4,-3,1;3,6,-5,0')"
      ],
      "metadata": {
        "id": "KXmQ_86crZBQ"
      },
      "execution_count": null,
      "outputs": []
    },
    {
      "cell_type": "code",
      "source": [
        "print(A)"
      ],
      "metadata": {
        "colab": {
          "base_uri": "https://localhost:8080/"
        },
        "id": "xE0ciy5luQBi",
        "outputId": "81b6bc7b-f5b4-4f3c-d5aa-b4095679893c"
      },
      "execution_count": null,
      "outputs": [
        {
          "output_type": "stream",
          "name": "stdout",
          "text": [
            "[[ 1  1  2  9]\n",
            " [ 2  4 -3  1]\n",
            " [ 3  6 -5  0]]\n"
          ]
        }
      ]
    },
    {
      "cell_type": "code",
      "source": [
        "A[2;:] ="
      ],
      "metadata": {
        "id": "AowQ69AOr2G-"
      },
      "execution_count": null,
      "outputs": []
    }
  ]
}