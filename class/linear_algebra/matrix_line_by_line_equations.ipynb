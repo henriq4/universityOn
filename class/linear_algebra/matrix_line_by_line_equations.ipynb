{
 "cells": [
  {
   "cell_type": "code",
   "execution_count": 1,
   "metadata": {
    "id": "cEjEf8N4nLy4"
   },
   "outputs": [],
   "source": [
    "import numpy as np\n",
    "from sympy import Symbol, solve"
   ]
  },
  {
   "cell_type": "code",
   "execution_count": 50,
   "metadata": {
    "id": "qfZySt2InUc9"
   },
   "outputs": [],
   "source": [
    "def c_f1(x, y, z):\n",
    "  return 2*x + y - 2*z - 10\n",
    "\n",
    "def c_f2(x, y, z):\n",
    "  return 3*x + 2*y + 2*z - 1\n",
    "\n",
    "def c_f3(x, y, z):\n",
    "  return 5*x + 4*y + 3*z - 4\n"
   ]
  },
  {
   "cell_type": "code",
   "execution_count": 51,
   "metadata": {
    "id": "yzILO8WfnyWF"
   },
   "outputs": [],
   "source": [
    "x = Symbol('x')\n",
    "y = Symbol('y')\n",
    "z = Symbol('z')"
   ]
  },
  {
   "cell_type": "code",
   "execution_count": 52,
   "metadata": {
    "id": "3qu23rNtn0Qm"
   },
   "outputs": [],
   "source": [
    "result_class = solve((c_f1(x, y, z), c_f2(x, y, z), c_f3(x, y, z)))\n"
   ]
  },
  {
   "cell_type": "code",
   "execution_count": 53,
   "metadata": {
    "colab": {
     "base_uri": "https://localhost:8080/"
    },
    "id": "KIvqVE46qli0",
    "outputId": "3f744e3b-6810-4811-8553-10df7d49f948"
   },
   "outputs": [
    {
     "name": "stdout",
     "output_type": "stream",
     "text": [
      "{x: 1, y: 2, z: -3}\n"
     ]
    }
   ],
   "source": [
    "print(result_class)\n"
   ]
  },
  {
   "cell_type": "markdown",
   "metadata": {
    "id": "SuMy_qQluVU0"
   },
   "source": [
    "---"
   ]
  },
  {
   "cell_type": "markdown",
   "metadata": {
    "id": "MgxAMQQQrysX"
   },
   "source": [
    "## Trabalhando com matrizes linha por linha\n",
    "\n",
    "Aqui trabalharemos para encontrar os valores de *x, y, z* dentro de um sistema\n",
    "de equações.\n",
    "\n",
    "### Modo de fazer\n",
    "\n",
    "Iremos zerar as equações do sistema de forma que obtermos:\n",
    "```[\n",
    "  [x 0 0]\n",
    "  [0 y 0]\n",
    "  [0 0 z]\n",
    "]```\n",
    "\n",
    "Para isso, nós primeiros alteramos as equações para virar uma matriz, depois alteramos o valor da equação a multiplicando, de forma que o valor final seja zerado, resultando na matriz anterior."
   ]
  },
  {
   "cell_type": "code",
   "execution_count": null,
   "metadata": {
    "id": "PM-Z2h5irFH1"
   },
   "outputs": [],
   "source": [
    "from fractions import Fraction"
   ]
  },
  {
   "cell_type": "code",
   "execution_count": null,
   "metadata": {
    "id": "KXmQ_86crZBQ"
   },
   "outputs": [],
   "source": [
    "A = np.matrix('1,1,2,9;2,4,-3,1;3,6,-5,0')"
   ]
  },
  {
   "cell_type": "code",
   "execution_count": null,
   "metadata": {
    "colab": {
     "base_uri": "https://localhost:8080/"
    },
    "id": "xE0ciy5luQBi",
    "outputId": "81b6bc7b-f5b4-4f3c-d5aa-b4095679893c"
   },
   "outputs": [
    {
     "name": "stdout",
     "output_type": "stream",
     "text": [
      "[[ 1  1  2  9]\n",
      " [ 2  4 -3  1]\n",
      " [ 3  6 -5  0]]\n"
     ]
    }
   ],
   "source": [
    "print(A)"
   ]
  },
  {
   "cell_type": "code",
   "execution_count": null,
   "metadata": {
    "id": "AowQ69AOr2G-"
   },
   "outputs": [],
   "source": [
    "A[2;:] ="
   ]
  }
 ],
 "metadata": {
  "colab": {
   "provenance": []
  },
  "kernelspec": {
   "display_name": "Python 3 (ipykernel)",
   "language": "python",
   "name": "python3"
  },
  "language_info": {
   "codemirror_mode": {
    "name": "ipython",
    "version": 3
   },
   "file_extension": ".py",
   "mimetype": "text/x-python",
   "name": "python",
   "nbconvert_exporter": "python",
   "pygments_lexer": "ipython3",
   "version": "3.10.9"
  }
 },
 "nbformat": 4,
 "nbformat_minor": 1
}
