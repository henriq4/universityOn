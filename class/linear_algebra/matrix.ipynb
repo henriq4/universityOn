{
 "cells": [
  {
   "cell_type": "code",
   "execution_count": null,
   "metadata": {
    "id": "NgVQcSSXaGOq"
   },
   "outputs": [],
   "source": [
    "import numpy as np"
   ]
  },
  {
   "cell_type": "code",
   "execution_count": null,
   "metadata": {
    "colab": {
     "base_uri": "https://localhost:8080/"
    },
    "id": "HRy2Izlyasou",
    "outputId": "dc20123e-8901-4e64-cbdb-63be82a4c794"
   },
   "outputs": [
    {
     "data": {
      "text/plain": [
       "matrix([[1., 2., 4.],\n",
       "        [5., 6., 7.]])"
      ]
     },
     "execution_count": 19,
     "metadata": {},
     "output_type": "execute_result"
    }
   ],
   "source": [
    "A = np.matrix('1.0,2.0,4.0;5.0,6.0,7.0')\n",
    "A"
   ]
  },
  {
   "cell_type": "code",
   "execution_count": null,
   "metadata": {
    "colab": {
     "base_uri": "https://localhost:8080/"
    },
    "id": "JK5CGijYbVAK",
    "outputId": "2ff322e8-ed33-46e2-dc23-c17cb632812b"
   },
   "outputs": [
    {
     "data": {
      "text/plain": [
       "(2, 3)"
      ]
     },
     "execution_count": 20,
     "metadata": {},
     "output_type": "execute_result"
    }
   ],
   "source": [
    "np.shape(A)"
   ]
  },
  {
   "cell_type": "code",
   "execution_count": null,
   "metadata": {
    "colab": {
     "base_uri": "https://localhost:8080/"
    },
    "id": "IdbU118lbY6S",
    "outputId": "907a773c-cf57-47e7-ae03-543b6a30a03f"
   },
   "outputs": [
    {
     "data": {
      "text/plain": [
       "matrix([[3., 4., 2.],\n",
       "        [5., 9., 2.]])"
      ]
     },
     "execution_count": 21,
     "metadata": {},
     "output_type": "execute_result"
    }
   ],
   "source": [
    "# B = np.zeros((2,3))\n",
    "B = np.matrix('3.0,4.0,2.0;5.0,9.0,2.0')\n",
    "B"
   ]
  },
  {
   "cell_type": "code",
   "execution_count": null,
   "metadata": {
    "id": "zqXcAcjQbo0S"
   },
   "outputs": [],
   "source": [
    "def sumMat(A, B):\n",
    "  return A + B\n",
    "\n",
    "def subMat(A, B):\n",
    "  return A - B"
   ]
  },
  {
   "cell_type": "code",
   "execution_count": null,
   "metadata": {
    "colab": {
     "base_uri": "https://localhost:8080/"
    },
    "id": "4c37JJIed6hn",
    "outputId": "34350484-b1db-46c1-c74b-5085c3cf3e22"
   },
   "outputs": [
    {
     "name": "stdout",
     "output_type": "stream",
     "text": [
      "[[ 4.  6.  6.]\n",
      " [10. 15.  9.]]\n",
      "[[-2. -2.  2.]\n",
      " [ 0. -3.  5.]]\n"
     ]
    }
   ],
   "source": [
    "C = sumMat(A, B)\n",
    "D = subMat(A, B)\n",
    "\n",
    "print(C)\n",
    "print(D)"
   ]
  },
  {
   "cell_type": "markdown",
   "metadata": {
    "id": "lghf-auPeolG"
   },
   "source": [
    "## Multiplicação por escalar"
   ]
  },
  {
   "cell_type": "code",
   "execution_count": null,
   "metadata": {
    "colab": {
     "base_uri": "https://localhost:8080/"
    },
    "id": "KSbIjIvbeJEr",
    "outputId": "f14c6c77-0607-4af2-ef69-fdc4928a0981"
   },
   "outputs": [
    {
     "name": "stdout",
     "output_type": "stream",
     "text": [
      "[[ 2.  4.  8.]\n",
      " [10. 12. 14.]]\n"
     ]
    }
   ],
   "source": [
    "# Escalar\n",
    "k = 2\n",
    "E = (k * A)\n",
    "\n",
    "print(E)"
   ]
  },
  {
   "cell_type": "markdown",
   "metadata": {
    "id": "hs90UCJpfayk"
   },
   "source": [
    "## Multiplicação de matriz"
   ]
  },
  {
   "cell_type": "code",
   "execution_count": null,
   "metadata": {
    "id": "5ox8YjToe4Bz"
   },
   "outputs": [],
   "source": [
    "G = np.matrix('2,3,4;5,2,4;5,2,1;3,7,6')\n",
    "H = np.matrix('1;2;3')"
   ]
  },
  {
   "cell_type": "code",
   "execution_count": null,
   "metadata": {
    "colab": {
     "base_uri": "https://localhost:8080/"
    },
    "id": "gyaGss9Cf2v9",
    "outputId": "7c1cab51-e7b4-434d-eaec-7440a063c25f"
   },
   "outputs": [
    {
     "name": "stdout",
     "output_type": "stream",
     "text": [
      "(4, 3)\n",
      "(3, 1)\n"
     ]
    }
   ],
   "source": [
    "# Número de colunas de A têm que ter o mesmo valor do número de linhas de B\n",
    "\n",
    "print(np.shape(G))\n",
    "print(np.shape(H))"
   ]
  },
  {
   "cell_type": "code",
   "execution_count": null,
   "metadata": {
    "colab": {
     "base_uri": "https://localhost:8080/"
    },
    "id": "qzaCclaIf8CP",
    "outputId": "4b278c42-ae9a-4e09-da8a-c39c1c8fa19c"
   },
   "outputs": [
    {
     "name": "stdout",
     "output_type": "stream",
     "text": [
      "[[20]\n",
      " [21]\n",
      " [12]\n",
      " [35]]\n"
     ]
    }
   ],
   "source": [
    "# A ordem de I vai ser o número de linhas de A e o número de colunas de B\n",
    "\n",
    "I = G * H\n",
    "\n",
    "# Error -> I = H * G\n",
    "\n",
    "print(I)"
   ]
  },
  {
   "cell_type": "code",
   "execution_count": null,
   "metadata": {
    "id": "T0FGvfrEgLJw"
   },
   "outputs": [],
   "source": [
    "J = np.matrix('2,2;2,2')\n",
    "K = np.matrix('4,4;4,4')"
   ]
  },
  {
   "cell_type": "code",
   "execution_count": null,
   "metadata": {
    "colab": {
     "base_uri": "https://localhost:8080/"
    },
    "id": "yYh1MfOLgyO1",
    "outputId": "27ef3d61-c3ec-45e8-f765-8c74b3c8d39a"
   },
   "outputs": [
    {
     "name": "stdout",
     "output_type": "stream",
     "text": [
      "[[ 50 146]\n",
      " [ 14  57]]\n"
     ]
    }
   ],
   "source": [
    "L = K * J\n",
    "print(L)"
   ]
  },
  {
   "cell_type": "markdown",
   "metadata": {
    "id": "J-oXUYq6hL98"
   },
   "source": [
    "#### Nota\n",
    "A x B só vai ser igual a B x A se A e B forem ambas matrizes quadráticas e com\n",
    "os elementos posicionais iguais.\n",
    "\n",
    "[LINK](https://mundoeducacao.uol.com.br/matematica/igualdade-entre-matrizes.htm#:~:text=A%20matriz%20A2x2%20%C3%A9,e%20a22%20%3D%20b22.)"
   ]
  },
  {
   "cell_type": "markdown",
   "metadata": {
    "id": "m1s-11s3i7KN"
   },
   "source": [
    "## Matriz identidade"
   ]
  },
  {
   "cell_type": "code",
   "execution_count": null,
   "metadata": {
    "colab": {
     "base_uri": "https://localhost:8080/"
    },
    "id": "zeIxK7_Fg1TE",
    "outputId": "fdf8d503-7ecd-4c8e-d328-19bee238c368"
   },
   "outputs": [
    {
     "data": {
      "text/plain": [
       "array([[1., 0.],\n",
       "       [0., 1.]])"
      ]
     },
     "execution_count": 50,
     "metadata": {},
     "output_type": "execute_result"
    }
   ],
   "source": [
    "M = np.identity(2)\n",
    "M"
   ]
  },
  {
   "cell_type": "code",
   "execution_count": null,
   "metadata": {
    "colab": {
     "base_uri": "https://localhost:8080/"
    },
    "id": "TwzRWtTwjVev",
    "outputId": "8207353d-279a-406a-f59f-4e97848e7d8b"
   },
   "outputs": [
    {
     "data": {
      "text/plain": [
       "matrix([[4., 4.],\n",
       "        [4., 4.]])"
      ]
     },
     "execution_count": 51,
     "metadata": {},
     "output_type": "execute_result"
    }
   ],
   "source": [
    "N = K * M\n",
    "N"
   ]
  },
  {
   "cell_type": "code",
   "execution_count": null,
   "metadata": {
    "colab": {
     "base_uri": "https://localhost:8080/"
    },
    "id": "aj860jq_je78",
    "outputId": "4aa61c81-0c8e-48be-e30c-dda34cc6ed98"
   },
   "outputs": [
    {
     "data": {
      "text/plain": [
       "matrix([[4., 4.],\n",
       "        [4., 4.]])"
      ]
     },
     "execution_count": 52,
     "metadata": {},
     "output_type": "execute_result"
    }
   ],
   "source": [
    "O = M * K\n",
    "O"
   ]
  },
  {
   "cell_type": "code",
   "execution_count": null,
   "metadata": {
    "id": "8qFDWXxvj3Hp"
   },
   "outputs": [],
   "source": []
  },
  {
   "cell_type": "markdown",
   "metadata": {
    "id": "JoQIvRmzHxqz"
   },
   "source": [
    "# Aula 10/05"
   ]
  },
  {
   "cell_type": "code",
   "execution_count": null,
   "metadata": {
    "id": "UNvW1bqtHzb9"
   },
   "outputs": [],
   "source": [
    "import numpy as np"
   ]
  },
  {
   "cell_type": "code",
   "execution_count": null,
   "metadata": {
    "colab": {
     "base_uri": "https://localhost:8080/"
    },
    "id": "VI6xRRYEH6pX",
    "outputId": "bbc02160-670b-4900-cbed-b7840f030a84"
   },
   "outputs": [
    {
     "data": {
      "text/plain": [
       "matrix([[1., 2., 3.],\n",
       "        [4., 5., 6.],\n",
       "        [7., 8., 9.]])"
      ]
     },
     "execution_count": 4,
     "metadata": {},
     "output_type": "execute_result"
    }
   ],
   "source": [
    "A = np.matrix('1.0,2.0,3.0;4.0,5.0,6.0;7.0,8.0,9.0')\n",
    "\n",
    "A"
   ]
  },
  {
   "cell_type": "code",
   "execution_count": null,
   "metadata": {
    "colab": {
     "base_uri": "https://localhost:8080/"
    },
    "id": "cXWhD7FHIGtH",
    "outputId": "0be39a18-67f6-40f2-a56a-917584205697"
   },
   "outputs": [
    {
     "data": {
      "text/plain": [
       "array([[1., 0., 0.],\n",
       "       [0., 1., 0.],\n",
       "       [0., 0., 1.]])"
      ]
     },
     "execution_count": 6,
     "metadata": {},
     "output_type": "execute_result"
    }
   ],
   "source": [
    "B = np.identity(3)\n",
    "\n",
    "B"
   ]
  },
  {
   "cell_type": "markdown",
   "metadata": {
    "id": "NduRHedRKS86"
   },
   "source": [
    "### Multiplicação matricial entre uma matriz quadrada por uma matriz identidade\n",
    "\n",
    "A nova matriz resultante terá mesma ordem que ambas e também os mesmos elementos que a matriz quadrada, posicionadas de formas iguais."
   ]
  },
  {
   "cell_type": "code",
   "execution_count": null,
   "metadata": {
    "colab": {
     "base_uri": "https://localhost:8080/"
    },
    "id": "PD2p8jMSI3lI",
    "outputId": "2ac1f12f-d599-4090-c105-ccfe459ec8a2"
   },
   "outputs": [
    {
     "data": {
      "text/plain": [
       "matrix([[1., 2., 3.],\n",
       "        [4., 5., 6.],\n",
       "        [7., 8., 9.]])"
      ]
     },
     "execution_count": 8,
     "metadata": {},
     "output_type": "execute_result"
    }
   ],
   "source": [
    "C = np.dot(A, B)\n",
    "\n",
    "C"
   ]
  },
  {
   "cell_type": "markdown",
   "metadata": {
    "id": "LVmc_bOcMGW2"
   },
   "source": [
    "### A . I_n = A = I_n . A\n",
    "\n",
    "Só vai ser válida se forem ambas matrizes quadradas de mesma ordem."
   ]
  },
  {
   "cell_type": "code",
   "execution_count": null,
   "metadata": {
    "colab": {
     "base_uri": "https://localhost:8080/"
    },
    "id": "82xw64S1JOF_",
    "outputId": "c753827d-c0cc-4413-ca3c-f4a2d95da301"
   },
   "outputs": [
    {
     "data": {
      "text/plain": [
       "matrix([[2., 2., 2.],\n",
       "        [3., 1., 2.]])"
      ]
     },
     "execution_count": 13,
     "metadata": {},
     "output_type": "execute_result"
    }
   ],
   "source": [
    "D = np.matrix('2,2,2;3,1,2')\n",
    "\n",
    "E = np.dot(D, B)\n",
    "# E = np.dot(B, D) -> Error (número de colunas diferente do número de linhas)\n",
    "E"
   ]
  },
  {
   "cell_type": "markdown",
   "metadata": {
    "id": "yucB_72AMnkv"
   },
   "source": []
  },
  {
   "cell_type": "markdown",
   "metadata": {
    "id": "haKv38QRMnqI"
   },
   "source": [
    "### I_n\n",
    "\n",
    "Elemento neutro para multiplicação matricial (valor *1* e demais colunas valor *0*)"
   ]
  }
 ],
 "metadata": {
  "colab": {
   "provenance": []
  },
  "kernelspec": {
   "display_name": "Python 3 (ipykernel)",
   "language": "python",
   "name": "python3"
  },
  "language_info": {
   "codemirror_mode": {
    "name": "ipython",
    "version": 3
   },
   "file_extension": ".py",
   "mimetype": "text/x-python",
   "name": "python",
   "nbconvert_exporter": "python",
   "pygments_lexer": "ipython3",
   "version": "3.10.9"
  }
 },
 "nbformat": 4,
 "nbformat_minor": 1
}
