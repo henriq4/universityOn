{
  "nbformat": 4,
  "nbformat_minor": 0,
  "metadata": {
    "colab": {
      "provenance": []
    },
    "kernelspec": {
      "name": "python3",
      "display_name": "Python 3"
    },
    "language_info": {
      "name": "python"
    }
  },
  "cells": [
    {
      "cell_type": "code",
      "execution_count": null,
      "metadata": {
        "id": "NgVQcSSXaGOq"
      },
      "outputs": [],
      "source": [
        "import numpy as np"
      ]
    },
    {
      "cell_type": "code",
      "source": [
        "A = np.matrix('1.0,2.0,4.0;5.0,6.0,7.0')\n",
        "A"
      ],
      "metadata": {
        "colab": {
          "base_uri": "https://localhost:8080/"
        },
        "id": "HRy2Izlyasou",
        "outputId": "dc20123e-8901-4e64-cbdb-63be82a4c794"
      },
      "execution_count": null,
      "outputs": [
        {
          "output_type": "execute_result",
          "data": {
            "text/plain": [
              "matrix([[1., 2., 4.],\n",
              "        [5., 6., 7.]])"
            ]
          },
          "metadata": {},
          "execution_count": 19
        }
      ]
    },
    {
      "cell_type": "code",
      "source": [
        "np.shape(A)"
      ],
      "metadata": {
        "colab": {
          "base_uri": "https://localhost:8080/"
        },
        "id": "JK5CGijYbVAK",
        "outputId": "2ff322e8-ed33-46e2-dc23-c17cb632812b"
      },
      "execution_count": null,
      "outputs": [
        {
          "output_type": "execute_result",
          "data": {
            "text/plain": [
              "(2, 3)"
            ]
          },
          "metadata": {},
          "execution_count": 20
        }
      ]
    },
    {
      "cell_type": "code",
      "source": [
        "# B = np.zeros((2,3))\n",
        "B = np.matrix('3.0,4.0,2.0;5.0,9.0,2.0')\n",
        "B"
      ],
      "metadata": {
        "colab": {
          "base_uri": "https://localhost:8080/"
        },
        "id": "IdbU118lbY6S",
        "outputId": "907a773c-cf57-47e7-ae03-543b6a30a03f"
      },
      "execution_count": null,
      "outputs": [
        {
          "output_type": "execute_result",
          "data": {
            "text/plain": [
              "matrix([[3., 4., 2.],\n",
              "        [5., 9., 2.]])"
            ]
          },
          "metadata": {},
          "execution_count": 21
        }
      ]
    },
    {
      "cell_type": "code",
      "source": [
        "def sumMat(A, B):\n",
        "  return A + B\n",
        "\n",
        "def subMat(A, B):\n",
        "  return A - B"
      ],
      "metadata": {
        "id": "zqXcAcjQbo0S"
      },
      "execution_count": null,
      "outputs": []
    },
    {
      "cell_type": "code",
      "source": [
        "C = sumMat(A, B)\n",
        "D = subMat(A, B)\n",
        "\n",
        "print(C)\n",
        "print(D)"
      ],
      "metadata": {
        "colab": {
          "base_uri": "https://localhost:8080/"
        },
        "id": "4c37JJIed6hn",
        "outputId": "34350484-b1db-46c1-c74b-5085c3cf3e22"
      },
      "execution_count": null,
      "outputs": [
        {
          "output_type": "stream",
          "name": "stdout",
          "text": [
            "[[ 4.  6.  6.]\n",
            " [10. 15.  9.]]\n",
            "[[-2. -2.  2.]\n",
            " [ 0. -3.  5.]]\n"
          ]
        }
      ]
    },
    {
      "cell_type": "markdown",
      "source": [
        "## Multiplicação por escalar"
      ],
      "metadata": {
        "id": "lghf-auPeolG"
      }
    },
    {
      "cell_type": "code",
      "source": [
        "# Escalar\n",
        "k = 2\n",
        "E = (k * A)\n",
        "\n",
        "print(E)"
      ],
      "metadata": {
        "colab": {
          "base_uri": "https://localhost:8080/"
        },
        "id": "KSbIjIvbeJEr",
        "outputId": "f14c6c77-0607-4af2-ef69-fdc4928a0981"
      },
      "execution_count": null,
      "outputs": [
        {
          "output_type": "stream",
          "name": "stdout",
          "text": [
            "[[ 2.  4.  8.]\n",
            " [10. 12. 14.]]\n"
          ]
        }
      ]
    },
    {
      "cell_type": "markdown",
      "source": [
        "## Multiplicação de matriz"
      ],
      "metadata": {
        "id": "hs90UCJpfayk"
      }
    },
    {
      "cell_type": "code",
      "source": [
        "G = np.matrix('2,3,4;5,2,4;5,2,1;3,7,6')\n",
        "H = np.matrix('1;2;3')"
      ],
      "metadata": {
        "id": "5ox8YjToe4Bz"
      },
      "execution_count": null,
      "outputs": []
    },
    {
      "cell_type": "code",
      "source": [
        "# Número de colunas de A têm que ter o mesmo valor do número de linhas de B\n",
        "\n",
        "print(np.shape(G))\n",
        "print(np.shape(H))"
      ],
      "metadata": {
        "colab": {
          "base_uri": "https://localhost:8080/"
        },
        "id": "gyaGss9Cf2v9",
        "outputId": "7c1cab51-e7b4-434d-eaec-7440a063c25f"
      },
      "execution_count": null,
      "outputs": [
        {
          "output_type": "stream",
          "name": "stdout",
          "text": [
            "(4, 3)\n",
            "(3, 1)\n"
          ]
        }
      ]
    },
    {
      "cell_type": "code",
      "source": [
        "# A ordem de I vai ser o número de linhas de A e o número de colunas de B\n",
        "\n",
        "I = G * H\n",
        "\n",
        "# Error -> I = H * G\n",
        "\n",
        "print(I)"
      ],
      "metadata": {
        "colab": {
          "base_uri": "https://localhost:8080/"
        },
        "id": "qzaCclaIf8CP",
        "outputId": "4b278c42-ae9a-4e09-da8a-c39c1c8fa19c"
      },
      "execution_count": null,
      "outputs": [
        {
          "output_type": "stream",
          "name": "stdout",
          "text": [
            "[[20]\n",
            " [21]\n",
            " [12]\n",
            " [35]]\n"
          ]
        }
      ]
    },
    {
      "cell_type": "code",
      "source": [
        "J = np.matrix('2,2;2,2')\n",
        "K = np.matrix('4,4;4,4')"
      ],
      "metadata": {
        "id": "T0FGvfrEgLJw"
      },
      "execution_count": null,
      "outputs": []
    },
    {
      "cell_type": "code",
      "source": [
        "L = K * J\n",
        "print(L)"
      ],
      "metadata": {
        "colab": {
          "base_uri": "https://localhost:8080/"
        },
        "id": "yYh1MfOLgyO1",
        "outputId": "27ef3d61-c3ec-45e8-f765-8c74b3c8d39a"
      },
      "execution_count": null,
      "outputs": [
        {
          "output_type": "stream",
          "name": "stdout",
          "text": [
            "[[ 50 146]\n",
            " [ 14  57]]\n"
          ]
        }
      ]
    },
    {
      "cell_type": "markdown",
      "source": [
        "#### Nota\n",
        "A x B só vai ser igual a B x A se A e B forem ambas matrizes quadráticas e com\n",
        "os elementos posicionais iguais.\n",
        "\n",
        "[LINK](https://mundoeducacao.uol.com.br/matematica/igualdade-entre-matrizes.htm#:~:text=A%20matriz%20A2x2%20%C3%A9,e%20a22%20%3D%20b22.)"
      ],
      "metadata": {
        "id": "J-oXUYq6hL98"
      }
    },
    {
      "cell_type": "markdown",
      "source": [
        "## Matriz identidade"
      ],
      "metadata": {
        "id": "m1s-11s3i7KN"
      }
    },
    {
      "cell_type": "code",
      "source": [
        "M = np.identity(2)\n",
        "M"
      ],
      "metadata": {
        "colab": {
          "base_uri": "https://localhost:8080/"
        },
        "id": "zeIxK7_Fg1TE",
        "outputId": "fdf8d503-7ecd-4c8e-d328-19bee238c368"
      },
      "execution_count": null,
      "outputs": [
        {
          "output_type": "execute_result",
          "data": {
            "text/plain": [
              "array([[1., 0.],\n",
              "       [0., 1.]])"
            ]
          },
          "metadata": {},
          "execution_count": 50
        }
      ]
    },
    {
      "cell_type": "code",
      "source": [
        "N = K * M\n",
        "N"
      ],
      "metadata": {
        "colab": {
          "base_uri": "https://localhost:8080/"
        },
        "id": "TwzRWtTwjVev",
        "outputId": "8207353d-279a-406a-f59f-4e97848e7d8b"
      },
      "execution_count": null,
      "outputs": [
        {
          "output_type": "execute_result",
          "data": {
            "text/plain": [
              "matrix([[4., 4.],\n",
              "        [4., 4.]])"
            ]
          },
          "metadata": {},
          "execution_count": 51
        }
      ]
    },
    {
      "cell_type": "code",
      "source": [
        "O = M * K\n",
        "O"
      ],
      "metadata": {
        "colab": {
          "base_uri": "https://localhost:8080/"
        },
        "id": "aj860jq_je78",
        "outputId": "4aa61c81-0c8e-48be-e30c-dda34cc6ed98"
      },
      "execution_count": null,
      "outputs": [
        {
          "output_type": "execute_result",
          "data": {
            "text/plain": [
              "matrix([[4., 4.],\n",
              "        [4., 4.]])"
            ]
          },
          "metadata": {},
          "execution_count": 52
        }
      ]
    },
    {
      "cell_type": "code",
      "source": [],
      "metadata": {
        "id": "8qFDWXxvj3Hp"
      },
      "execution_count": null,
      "outputs": []
    },
    {
      "cell_type": "markdown",
      "source": [
        "# Aula 10/05"
      ],
      "metadata": {
        "id": "JoQIvRmzHxqz"
      }
    },
    {
      "cell_type": "code",
      "source": [
        "import numpy as np"
      ],
      "metadata": {
        "id": "UNvW1bqtHzb9"
      },
      "execution_count": null,
      "outputs": []
    },
    {
      "cell_type": "code",
      "source": [
        "A = np.matrix('1.0,2.0,3.0;4.0,5.0,6.0;7.0,8.0,9.0')\n",
        "\n",
        "A"
      ],
      "metadata": {
        "colab": {
          "base_uri": "https://localhost:8080/"
        },
        "id": "VI6xRRYEH6pX",
        "outputId": "bbc02160-670b-4900-cbed-b7840f030a84"
      },
      "execution_count": null,
      "outputs": [
        {
          "output_type": "execute_result",
          "data": {
            "text/plain": [
              "matrix([[1., 2., 3.],\n",
              "        [4., 5., 6.],\n",
              "        [7., 8., 9.]])"
            ]
          },
          "metadata": {},
          "execution_count": 4
        }
      ]
    },
    {
      "cell_type": "code",
      "source": [
        "B = np.identity(3)\n",
        "\n",
        "B"
      ],
      "metadata": {
        "colab": {
          "base_uri": "https://localhost:8080/"
        },
        "id": "cXWhD7FHIGtH",
        "outputId": "0be39a18-67f6-40f2-a56a-917584205697"
      },
      "execution_count": null,
      "outputs": [
        {
          "output_type": "execute_result",
          "data": {
            "text/plain": [
              "array([[1., 0., 0.],\n",
              "       [0., 1., 0.],\n",
              "       [0., 0., 1.]])"
            ]
          },
          "metadata": {},
          "execution_count": 6
        }
      ]
    },
    {
      "cell_type": "markdown",
      "source": [
        "### Multiplicação matricial entre uma matriz quadrada por uma matriz identidade\n",
        "\n",
        "A nova matriz resultante terá mesma ordem que ambas e também os mesmos elementos que a matriz quadrada, posicionadas de formas iguais."
      ],
      "metadata": {
        "id": "NduRHedRKS86"
      }
    },
    {
      "cell_type": "code",
      "source": [
        "C = np.dot(A, B)\n",
        "\n",
        "C"
      ],
      "metadata": {
        "colab": {
          "base_uri": "https://localhost:8080/"
        },
        "id": "PD2p8jMSI3lI",
        "outputId": "2ac1f12f-d599-4090-c105-ccfe459ec8a2"
      },
      "execution_count": null,
      "outputs": [
        {
          "output_type": "execute_result",
          "data": {
            "text/plain": [
              "matrix([[1., 2., 3.],\n",
              "        [4., 5., 6.],\n",
              "        [7., 8., 9.]])"
            ]
          },
          "metadata": {},
          "execution_count": 8
        }
      ]
    },
    {
      "cell_type": "markdown",
      "source": [
        "### A . I_n = A = I_n . A\n",
        "\n",
        "Só vai ser válida se forem ambas matrizes quadradas de mesma ordem."
      ],
      "metadata": {
        "id": "LVmc_bOcMGW2"
      }
    },
    {
      "cell_type": "code",
      "source": [
        "D = np.matrix('2,2,2;3,1,2')\n",
        "\n",
        "E = np.dot(D, B)\n",
        "# E = np.dot(B, D) -> Error (número de colunas diferente do número de linhas)\n",
        "E"
      ],
      "metadata": {
        "colab": {
          "base_uri": "https://localhost:8080/"
        },
        "id": "82xw64S1JOF_",
        "outputId": "c753827d-c0cc-4413-ca3c-f4a2d95da301"
      },
      "execution_count": null,
      "outputs": [
        {
          "output_type": "execute_result",
          "data": {
            "text/plain": [
              "matrix([[2., 2., 2.],\n",
              "        [3., 1., 2.]])"
            ]
          },
          "metadata": {},
          "execution_count": 13
        }
      ]
    },
    {
      "cell_type": "markdown",
      "source": [],
      "metadata": {
        "id": "yucB_72AMnkv"
      }
    },
    {
      "cell_type": "markdown",
      "source": [
        "### I_n\n",
        "\n",
        "Elemento neutro para multiplicação matricial (valor *1* e demais colunas valor *0*)"
      ],
      "metadata": {
        "id": "haKv38QRMnqI"
      }
    }
  ]
}